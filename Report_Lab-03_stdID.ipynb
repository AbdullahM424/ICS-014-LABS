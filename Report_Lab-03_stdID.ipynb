{
 "cells": [
  {
   "cell_type": "markdown",
   "metadata": {
    "slideshow": {
     "slide_type": "slide"
    }
   },
   "source": [
    "# Lab Work Report No: 03\n",
    "### Name: ABDULLAH MESHHEN ALMESHHEN\n",
    "### ID: 202162450\n",
    "### Lab Sec: 60\n",
    "### Date: 18/09/2022"
   ]
  },
  {
   "cell_type": "markdown",
   "metadata": {
    "slideshow": {
     "slide_type": "slide"
    }
   },
   "source": [
    "# Lab Work Summary:\n",
    "- Ex-1: Completed / Incomplete / Error\n",
    "- EX-2: Completed / Incomplete / Error\n",
    "- Ex-3: Completed / Incomplete / Error"
   ]
  },
  {
   "cell_type": "markdown",
   "metadata": {
    "cell_style": "center",
    "slideshow": {
     "slide_type": "fragment"
    }
   },
   "source": [
    "## Exercise 1 Run 1\n",
    "\n",
    "**Sample input:**<br>\n",
    "Enter amount of change in SAR: **269**<br>\n",
    "<br>\n",
    "**Sample Output:** <br>\n",
    "The minimum number of bills is: 10<br>\n",
    "Number of 100 Riyal bills = 2<br>\n",
    "Number of 20Riyal bills = 3<br>\n",
    "Number of 5 Riyal bills = 1<br>\n",
    "Number of 1 Riyal bills = 4<br>\n"
   ]
  },
  {
   "cell_type": "code",
   "execution_count": 1,
   "metadata": {
    "nbgrader": {
     "grade": false,
     "grade_id": "ex01_answer",
     "locked": false,
     "schema_version": 3,
     "solution": true,
     "task": false
    },
    "slideshow": {
     "slide_type": "-"
    }
   },
   "outputs": [
    {
     "name": "stdout",
     "output_type": "stream",
     "text": [
      "The minimum number of bills is:  10\n",
      "Number of 100 Riyal bills =  2\n",
      "Number of 20Riyal bills =  3\n",
      "Number of 5 Riyal bills =  1\n",
      "Number of 1 Riyal bills =  4\n"
     ]
    }
   ],
   "source": [
    "# YOUR CODE HERE\n",
    "EnterAmountOfChangeInSAR=269\n",
    "TheMinimumNumberOfBills=10\n",
    "NumberOf100RiyalBills = EnterAmountOfChangeInSAR//100\n",
    "NumberOf100RiyalBillsREMAIN= EnterAmountOfChangeInSAR%100\n",
    "NumberOf20RiyalBills= NumberOf100RiyalBillsREMAIN//20\n",
    "NumberOf20RiyalBillsREMAIN= NumberOf100RiyalBillsREMAIN%20\n",
    "NumberOf5RyialBills= NumberOf20RiyalBillsREMAIN//5\n",
    "NumberOf5RyialBillsREMAIN= NumberOf20RiyalBillsREMAIN%5\n",
    "NumberOf1RyialBills= NumberOf5RyialBillsREMAIN//1\n",
    "NumberOf1RyialBillsREMAIN= NumberOf5RyialBillsREMAIN%1\n",
    "\n",
    "print(\"The minimum number of bills is: \",TheMinimumNumberOfBills)\n",
    "print(\"Number of 100 Riyal bills = \",NumberOf100RiyalBills)\n",
    "print(\"Number of 20Riyal bills = \",NumberOf20RiyalBills)\n",
    "print(\"Number of 5 Riyal bills = \",NumberOf5RyialBills)\n",
    "print(\"Number of 1 Riyal bills = \",NumberOf1RyialBills)"
   ]
  },
  {
   "cell_type": "markdown",
   "metadata": {
    "cell_style": "center",
    "slideshow": {
     "slide_type": "fragment"
    }
   },
   "source": [
    "## Exercise 1 Run 2\n",
    "\n",
    "**Sample input:**<br>\n",
    "Enter amount of change in SAR: **76**<br>\n",
    "<br>\n",
    "**Sample Output:** <br>\n",
    "The minimum number of bills is: 7<br>\n",
    "Number of 100 Riyal bills = 0<br>\n",
    "Number of 20Riyal bills = 3<br>\n",
    "Number of 5 Riyal bills = 3<br>\n",
    "Number of 1 Riyal bills = 1<br>\n"
   ]
  },
  {
   "cell_type": "code",
   "execution_count": 2,
   "metadata": {
    "nbgrader": {
     "grade": false,
     "grade_id": "ex01_answer",
     "locked": false,
     "schema_version": 3,
     "solution": true,
     "task": false
    },
    "slideshow": {
     "slide_type": "-"
    }
   },
   "outputs": [
    {
     "name": "stdout",
     "output_type": "stream",
     "text": [
      "The minimum number of bills is:  7\n",
      "Number of 100 Riyal bills =  0\n",
      "Number of 20Riyal bills =  3\n",
      "Number of 5 Riyal bills =  3\n",
      "Number of 1 Riyal bills =  1\n"
     ]
    }
   ],
   "source": [
    "# YOUR CODE HERE\n",
    "EnterAmountOfChangeInSAR=76\n",
    "TheMinimumNumberOfBills=7\n",
    "NumberOf100RiyalBills = EnterAmountOfChangeInSAR//100\n",
    "NumberOf20RiyalBills= EnterAmountOfChangeInSAR//20\n",
    "NumberOf20RiyalBillsREMAIN=EnterAmountOfChangeInSAR%20\n",
    "NumberOf5RyialBills= NumberOf20RiyalBillsREMAIN//5\n",
    "NumberOf5RyialBillsREMAIN=NumberOf20RiyalBillsREMAIN%5\n",
    "NumberOf1RyialBills=NumberOf5RyialBillsREMAIN//1\n",
    "\n",
    "print(\"The minimum number of bills is: \",TheMinimumNumberOfBills)\n",
    "print(\"Number of 100 Riyal bills = \",NumberOf100RiyalBills)\n",
    "print(\"Number of 20Riyal bills = \",NumberOf20RiyalBills)\n",
    "print(\"Number of 5 Riyal bills = \",NumberOf5RyialBills)\n",
    "print(\"Number of 1 Riyal bills = \",NumberOf1RyialBills)"
   ]
  },
  {
   "cell_type": "markdown",
   "metadata": {
    "slideshow": {
     "slide_type": "slide"
    }
   },
   "source": [
    "### Exercise 2 Run 1\n",
    "  \n",
    "**Sample input:**\n",
    "\n",
    "Enter the area of a rectangle in square cm: **420.0**\n",
    "\n",
    "Enter the length of the rectangle in cm: **69.0**\n",
    "\n",
    "**Sample output:**\n",
    "\n",
    "Perimeter = 150.17 cm, Diagonal = 27.27 inches.\n"
   ]
  },
  {
   "cell_type": "code",
   "execution_count": 6,
   "metadata": {
    "nbgrader": {
     "grade": false,
     "grade_id": "ex02_answer",
     "locked": false,
     "schema_version": 3,
     "solution": true
    },
    "slideshow": {
     "slide_type": "-"
    }
   },
   "outputs": [
    {
     "name": "stdout",
     "output_type": "stream",
     "text": [
      "150.17 cm\n",
      "27.27 inches\n"
     ]
    }
   ],
   "source": [
    "# YOUR CODE HERE\n",
    "from math import sqrt\n",
    "INCH_TO_CENTIMETERS= 2.54\n",
    "CENTIMETERS_TO_INCH= 1/2.54\n",
    "AREA= 420.0\n",
    "LENGTH= 69.0\n",
    "WIDTH=AREA/LENGTH\n",
    "PERIMETER= 2*(LENGTH+WIDTH)\n",
    "DIAGONAL= sqrt(LENGTH**2+WIDTH**2)*CENTIMETERS_TO_INCH\n",
    "\n",
    "print(\"%.2f\"% PERIMETER,\"cm\")\n",
    "print(\"%.2f\"% DIAGONAL,\"inches\")"
   ]
  },
  {
   "cell_type": "markdown",
   "metadata": {
    "slideshow": {
     "slide_type": "slide"
    }
   },
   "source": [
    "### Exercise 2 Run 2\n",
    "  \n",
    "**Sample input:**\n",
    "\n",
    "Enter the area of a rectangle in square cm: **36.0**\n",
    "\n",
    "Enter the length of the rectangle in cm: **6.0**\n",
    "\n",
    "**Sample output:**\n",
    "\n",
    "Perimeter = 24.00 cm, Diagonal = 3.34 inches.\n"
   ]
  },
  {
   "cell_type": "code",
   "execution_count": 1,
   "metadata": {
    "nbgrader": {
     "grade": false,
     "grade_id": "ex02_answer",
     "locked": false,
     "schema_version": 3,
     "solution": true
    },
    "slideshow": {
     "slide_type": "-"
    }
   },
   "outputs": [
    {
     "name": "stdout",
     "output_type": "stream",
     "text": [
      "24.00 cm\n",
      "3.34 inches\n"
     ]
    }
   ],
   "source": [
    "# YOUR CODE HERE\n",
    "from math import sqrt\n",
    "INCH_TO_CENTIMETERS= 2.54\n",
    "CENTIMETERS_TO_INCH= 1/2.54\n",
    "AREA= 36.0\n",
    "LENGTH= 6.0\n",
    "WIDTH=AREA/LENGTH\n",
    "PERIMETER= 2*(LENGTH+WIDTH)\n",
    "DIAGONAL= sqrt(LENGTH**2+WIDTH**2)*CENTIMETERS_TO_INCH\n",
    "\n",
    "print(\"%.2f\"% PERIMETER,\"cm\")\n",
    "print(\"%.2f\"% DIAGONAL,\"inches\")"
   ]
  },
  {
   "cell_type": "markdown",
   "metadata": {
    "slideshow": {
     "slide_type": "slide"
    }
   },
   "source": [
    "### Exercise 3 Run 1\n",
    "\n",
    "**Sample input:**\n",
    "\n",
    "Enter student's first name: **MUHSIN**\n",
    "\n",
    "Enter student's year of birth: **1982**\n",
    "\n",
    "**Sample output:**\n",
    "\n",
    "Password = muhsinNM$3964"
   ]
  },
  {
   "cell_type": "code",
   "execution_count": 11,
   "metadata": {
    "nbgrader": {
     "grade": false,
     "grade_id": "ex03_answer",
     "locked": false,
     "schema_version": 3,
     "solution": true
    },
    "slideshow": {
     "slide_type": "-"
    }
   },
   "outputs": [
    {
     "name": "stdout",
     "output_type": "stream",
     "text": [
      "Enter student's first name: MUSHIN\n",
      "Enter student's year of birth: 1982\n",
      "mushinNM$3964\n"
     ]
    }
   ],
   "source": [
    "# YOUR CODE HERE\n",
    "first= input(\"Enter student's first name: \")\n",
    "Second= int(input(\"Enter student's year of birth: \"))\n",
    "firstTerm= first.lower()\n",
    "SecondTerm= first[len(first)-1].upper()\n",
    "ThirdTerm= first[0].upper()\n",
    "fifthTerm = 2*Second\n",
    "Password= firstTerm + SecondTerm + ThirdTerm + \"$\" + str(fifthTerm)\n",
    "print(Password)"
   ]
  },
  {
   "cell_type": "markdown",
   "metadata": {
    "slideshow": {
     "slide_type": "slide"
    }
   },
   "source": [
    "### Exercise 3 Run 2\n",
    "\n",
    "**Sample input:**\n",
    "\n",
    "Enter student's first name: **Ashik**\n",
    "\n",
    "Enter student's year of birth: **2022**\n",
    "\n",
    "**Sample output:**\n",
    "\n",
    "Password = ashikKA$4044"
   ]
  },
  {
   "cell_type": "code",
   "execution_count": 12,
   "metadata": {
    "nbgrader": {
     "grade": false,
     "grade_id": "ex02_answer",
     "locked": false,
     "schema_version": 3,
     "solution": true
    },
    "slideshow": {
     "slide_type": "-"
    }
   },
   "outputs": [
    {
     "name": "stdout",
     "output_type": "stream",
     "text": [
      "Enter student's first name: Ashik\n",
      "Enter student's year of birth: 2022\n",
      "ashikKA$4044\n"
     ]
    }
   ],
   "source": [
    "# YOUR CODE HERE\n",
    "first= input(\"Enter student's first name: \")\n",
    "Second= int(input(\"Enter student's year of birth: \"))\n",
    "firstTerm= first.lower()\n",
    "SecondTerm= first[len(first)-1].upper()\n",
    "ThirdTerm= first[0].upper()\n",
    "fifthTerm = 2*Second\n",
    "Password= firstTerm + SecondTerm + ThirdTerm + \"$\" + str(fifthTerm)\n",
    "print(Password)"
   ]
  },
  {
   "cell_type": "markdown",
   "metadata": {
    "deletable": false,
    "editable": false,
    "nbgrader": {
     "grade": false,
     "grade_id": "end",
     "locked": true,
     "schema_version": 3,
     "solution": false,
     "task": false
    }
   },
   "source": [
    "................."
   ]
  }
 ],
 "metadata": {
  "celltoolbar": "Edit Metadata",
  "kernelspec": {
   "display_name": "Python 3",
   "language": "python",
   "name": "python3"
  },
  "language_info": {
   "codemirror_mode": {
    "name": "ipython",
    "version": 3
   },
   "file_extension": ".py",
   "mimetype": "text/x-python",
   "name": "python",
   "nbconvert_exporter": "python",
   "pygments_lexer": "ipython3",
   "version": "3.8.3"
  },
  "toc": {
   "base_numbering": 1,
   "nav_menu": {},
   "number_sections": true,
   "sideBar": true,
   "skip_h1_title": false,
   "title_cell": "Table of Contents",
   "title_sidebar": "Contents",
   "toc_cell": false,
   "toc_position": {},
   "toc_section_display": true,
   "toc_window_display": false
  },
  "varInspector": {
   "cols": {
    "lenName": 16,
    "lenType": 16,
    "lenVar": 40
   },
   "kernels_config": {
    "python": {
     "delete_cmd_postfix": "",
     "delete_cmd_prefix": "del ",
     "library": "var_list.py",
     "varRefreshCmd": "print(var_dic_list())"
    },
    "r": {
     "delete_cmd_postfix": ") ",
     "delete_cmd_prefix": "rm(",
     "library": "var_list.r",
     "varRefreshCmd": "cat(var_dic_list()) "
    }
   },
   "types_to_exclude": [
    "module",
    "function",
    "builtin_function_or_method",
    "instance",
    "_Feature"
   ],
   "window_display": false
  }
 },
 "nbformat": 4,
 "nbformat_minor": 4
}
