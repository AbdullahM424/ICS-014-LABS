{
 "cells": [
  {
   "cell_type": "markdown",
   "metadata": {
    "slideshow": {
     "slide_type": "slide"
    }
   },
   "source": [
    "# ICS 104 - Introduction to Programming in Python and C\n",
    "## Lab 09: Lists, Tuples and Dictionaries "
   ]
  },
  {
   "cell_type": "markdown",
   "metadata": {
    "slideshow": {
     "slide_type": "slide"
    }
   },
   "source": [
    "# Name: Abdullah Almeshhen\n",
    "# ID: 202162450\n",
    "# Section: 60"
   ]
  },
  {
   "cell_type": "markdown",
   "metadata": {
    "slideshow": {
     "slide_type": "slide"
    }
   },
   "source": [
    "# Excercises "
   ]
  },
  {
   "cell_type": "markdown",
   "metadata": {
    "slideshow": {
     "slide_type": "fragment"
    }
   },
   "source": [
    "## Excercise  1 \n",
    "Write a function that receives a sorted list of positive numbers and a positive integer n.  Then, it will remove all multiples of present in the list. n is not removed. \n",
    "Write a main function that generates a list of numbers from 2 to 100.  Then, by calling the first function, it removes all multiples of 2,3,4, and 5 (using a loop). \n",
    "After that, it prints the remaining list.  The remaining list is shown below."
   ]
  },
  {
   "cell_type": "markdown",
   "metadata": {},
   "source": [
    "### Sample Output:\n",
    "[2, 3, 5, 7, 11, 13, 17, 19, 23, 29, 31, 37, 41, 43, 47, 49, 53, 59, 61, 67, 71, 73, 77, 79, 83, 89, 91, 97]"
   ]
  },
  {
   "cell_type": "code",
   "execution_count": 19,
   "metadata": {
    "slideshow": {
     "slide_type": "-"
    }
   },
   "outputs": [
    {
     "name": "stdout",
     "output_type": "stream",
     "text": [
      "[2, 3, 5, 7, 11, 13, 17, 19, 23, 29, 31, 37, 41, 43, 47, 49, 53, 59, 61, 67, 71, 73, 77, 79, 83, 89, 91, 97]\n"
     ]
    }
   ],
   "source": [
    "# Exercise # 1 - Source Code\n",
    "def removeMultiples(sortedList,n):\n",
    "    #write your code here\n",
    "    tempList = []            \n",
    "    for i in sortedList:       #We use for loop\n",
    "        if i == n:               #Here to check if the numbers are multiples or not\n",
    "            tempList.append(i)\n",
    "        if i % n != 0:\n",
    "            tempList.append(i)       #If they are not, we append it again. % returns the remainder between a division\n",
    "    return tempList\n",
    "def main():\n",
    "    #write your code here\n",
    "    sortedList = []\n",
    "    for i in range(2, 101):       # we declare a list called sortedlist and fill it with numbers from 2 to 100 with a loop\n",
    "        sortedList.append(i)\n",
    "    for i in range(2, 6):\n",
    "        sortedList = removeMultiples(sortedList, i)\n",
    "    print(sortedList)\n",
    "    \n",
    "#Starting the program\n",
    "main()\n",
    "        "
   ]
  },
  {
   "cell_type": "markdown",
   "metadata": {
    "slideshow": {
     "slide_type": "slide"
    }
   },
   "source": [
    "## Excercise # 2 \n",
    "Write a function that receieves 2 lists and returns True if both lists contain the same elements in any order. If not, it returns False.<br>\n",
    "For example,\n",
    "`1 4 9 16 9 7 4 9 11` and `11 1 4 9 16 9 7 4 9` would be considered to contain same elements.<br>\n",
    "`1 4 9 16 9 7 4 9 11`and`11 11 7 9 16 4 1` would not. <br>\n",
    "Note: you are not allowed to sort the lists.\n"
   ]
  },
  {
   "cell_type": "markdown",
   "metadata": {},
   "source": [
    "### Sample output:\n",
    "list1 and list2 have the same elements <br>\n",
    "list1 and list3 do not have the same elements"
   ]
  },
  {
   "cell_type": "code",
   "execution_count": 20,
   "metadata": {
    "slideshow": {
     "slide_type": "-"
    }
   },
   "outputs": [
    {
     "name": "stdout",
     "output_type": "stream",
     "text": [
      "list1 and list2 have the same elements\n",
      "list1 and list3 do not have the same element\n"
     ]
    }
   ],
   "source": [
    "# Exercise # 2 - Sample solution\n",
    "def main():\n",
    "    list1= [1,2,3,4,0]\n",
    "    list2= [4,3,1,0,2]\n",
    "    list3= [1,2,3,4]\n",
    "            \n",
    "    if checkLists(list1,list2):      #this is to check the list are equal or not\n",
    "        print(\"list1 and list2 have the same elements\")\n",
    "    else:\n",
    "        print(\"list1 and list2 do not have the same element\")\n",
    "    \n",
    "    if checkLists(list1,list3):\n",
    "        print(\"list1 and list3 have the same elements\")\n",
    "    else:\n",
    "        print(\"list1 and list3 do not have the same element\")\n",
    "            #call main function, if your compiler has default main function, no need to call main() function  \n",
    "  \n",
    "def checkLists (list1,list2):\n",
    "    #### write your code here #####\n",
    "    if len(list1) != len(list2):\n",
    "        return False\n",
    "    \n",
    "    #loop over elements in one list\n",
    "    for element in list1:\n",
    "                               #if that element of list1 is also present in list2\n",
    "                               #remove element from list2\n",
    "        if element in list2:\n",
    "            list2.remove(element)\n",
    "                                  #after for loop check if the list2 is empty\n",
    "                             #if list2 is empty, return True, otherwise return False\n",
    "    if list2 == []:\n",
    "        return True\n",
    "    else:\n",
    "        return False\n",
    "    \n",
    "#starting the program\n",
    "main()\n"
   ]
  },
  {
   "cell_type": "markdown",
   "metadata": {
    "slideshow": {
     "slide_type": "slide"
    }
   },
   "source": [
    "## Excercise # 3\n",
    "Write a function that receives a positive integer value n.  Then it creates a list containing all factors of n excluding 1 and n and returns it.\n",
    "In the main function, read an integer value.  Then based on a call to the defined function, it is going to display the list of factors or display a message saying that n is a prime number i.e. it does not have any factor.\n"
   ]
  },
  {
   "cell_type": "markdown",
   "metadata": {},
   "source": [
    "### Sample run 1\n",
    "Enter a positive integer value: 40 <br>\n",
    "The factors of 40 exculding 1 and 40 are: <br>\n",
    "[2, 4, 5, 8, 10, 20]\n"
   ]
  },
  {
   "cell_type": "code",
   "execution_count": 2,
   "metadata": {
    "slideshow": {
     "slide_type": "notes"
    }
   },
   "outputs": [
    {
     "name": "stdout",
     "output_type": "stream",
     "text": [
      "Enter a positive integer value: 40\n",
      "The factors of 40 excluding 1 and 40 are:\n",
      "[2, 4, 5, 8, 10, 20]\n"
     ]
    }
   ],
   "source": [
    "# Exercise # 3 - Sample solution\n",
    "def factorsOfn(n):\n",
    "     ###### Write your code here ######\n",
    "    f = []\n",
    "    #Looping start from 2 and ends at num/2 + 1 \n",
    "    for k in range(2, n//2 + 1):\n",
    "        # if k is a factor then it will divide n and give remainder as 0\n",
    "        if n % k ==0:\n",
    "            #if condition satisfies then adding k in list f\n",
    "            f.append(k)\n",
    "    #Returning the list f\n",
    "    return f\n",
    "        #starting the program\n",
    "def main():\n",
    "    ###### Write your code here ######\n",
    "    n = int(input(\"Enter a positive integer value: \"))\n",
    "    fac = factorsOfn(n)\n",
    "        #If fac list is empty that means num is a prime number\n",
    "    if len(fac)==0:\n",
    "            print(n,\"is a prime number\")\n",
    "    #Otherwise displaying fac list\n",
    "    else:\n",
    "            print(\"The factors of\",n,\"excluding 1 and\",n,\"are:\")\n",
    "            print(fac)\n",
    "\n",
    "#starting the program    \n",
    "main()\n",
    "   "
   ]
  },
  {
   "cell_type": "markdown",
   "metadata": {},
   "source": [
    "### Sample run 2\n",
    "Enter a positive integer value: 29 <br>\n",
    "29 is a prime number"
   ]
  },
  {
   "cell_type": "code",
   "execution_count": 3,
   "metadata": {
    "slideshow": {
     "slide_type": "notes"
    }
   },
   "outputs": [
    {
     "name": "stdout",
     "output_type": "stream",
     "text": [
      "Enter a positive integer value: 29\n",
      "29 is a prime number\n"
     ]
    }
   ],
   "source": [
    "# Exercise # 3 - Sample solution\n",
    "def factorsOfn(n):\n",
    "     ###### Write your code here ######\n",
    "    f = []\n",
    "    #Looping start from 2 and ends at num/2 + 1 \n",
    "    for k in range(2, n//2 + 1):\n",
    "        # if k is a factor then it will divide n and give remainder as 0\n",
    "        if n % k ==0:\n",
    "            #if condition satisfies then adding k in list f\n",
    "            f.append(k)\n",
    "    #Returning the list f\n",
    "    return f\n",
    "        #starting the program\n",
    "def main():\n",
    "    ###### Write your code here ######\n",
    "    n = int(input(\"Enter a positive integer value: \"))\n",
    "    fac = factorsOfn(n)\n",
    "        #If fac list is empty that means num is a prime number\n",
    "    if len(fac)==0:\n",
    "            print(n,\"is a prime number\")\n",
    "    #Otherwise displaying fac list\n",
    "    else:\n",
    "            print(\"The factors of\",n,\"excluding 1 and\",n,\"are:\")\n",
    "            print(fac)\n",
    "\n",
    "#starting the program    \n",
    "main()\n",
    "   "
   ]
  },
  {
   "cell_type": "code",
   "execution_count": null,
   "metadata": {},
   "outputs": [],
   "source": []
  }
 ],
 "metadata": {
  "celltoolbar": "Slideshow",
  "kernelspec": {
   "display_name": "Python 3 (ipykernel)",
   "language": "python",
   "name": "python3"
  },
  "language_info": {
   "codemirror_mode": {
    "name": "ipython",
    "version": 3
   },
   "file_extension": ".py",
   "mimetype": "text/x-python",
   "name": "python",
   "nbconvert_exporter": "python",
   "pygments_lexer": "ipython3",
   "version": "3.9.12"
  },
  "rise": {
   "theme": "yellow"
  },
  "toc": {
   "base_numbering": 1,
   "nav_menu": {},
   "number_sections": true,
   "sideBar": true,
   "skip_h1_title": false,
   "title_cell": "Table of Contents",
   "title_sidebar": "Contents",
   "toc_cell": false,
   "toc_position": {},
   "toc_section_display": true,
   "toc_window_display": false
  }
 },
 "nbformat": 4,
 "nbformat_minor": 4
}
