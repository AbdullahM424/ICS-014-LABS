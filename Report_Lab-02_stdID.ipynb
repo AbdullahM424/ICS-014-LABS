{
 "cells": [
  {
   "cell_type": "code",
   "execution_count": null,
   "metadata": {},
   "outputs": [],
   "source": []
  },
  {
   "cell_type": "markdown",
   "metadata": {},
   "source": [
    "# Lab Work Report No: 02\n",
    "### Name: ABDULLAH MESHHEN ALMESHHEN\n",
    "### ID: 202162450\n",
    "### Lab Sec: 60\n",
    "### Date: 11/09/2022"
   ]
  },
  {
   "cell_type": "markdown",
   "metadata": {},
   "source": [
    "# Lab Work Summary:\n",
    "- Ex-1: Completed / Incomplete / Error\n",
    "- EX-2: Completed / Incomplete / Error\n",
    "- Ex-3: Completed / Incomplete / Error"
   ]
  },
  {
   "cell_type": "markdown",
   "metadata": {},
   "source": [
    "## Exercise 01:"
   ]
  },
  {
   "cell_type": "markdown",
   "metadata": {},
   "source": [
    "**Sample Run When:**<br>\n",
    "\n",
    "TotalWidth = 32<br>\n",
    "TileWidth = 3<br>\n",
    "**Output** <br/>\n",
    "Number of tiles = 9<br>\n",
    "Gap on two sides = 2.5<br>\n",
    "Number of Black Tiles 5<br>\n",
    "Number of White Tiles 4<br>"
   ]
  },
  {
   "cell_type": "code",
   "execution_count": 3,
   "metadata": {},
   "outputs": [
    {
     "name": "stdout",
     "output_type": "stream",
     "text": [
      "9\n",
      "2.5\n",
      "5\n",
      "4\n"
     ]
    }
   ],
   "source": [
    "#Write your code Here\n",
    "TotalWidth = 32\n",
    "TileWidth = 3\n",
    "widthWithoutBlackTile=TotalWidth-TileWidth\n",
    "Numberofwhiteblacktilepairs=int(𝑤𝑖𝑑𝑡ℎ𝑊𝑖𝑡ℎ𝑜𝑢𝑡𝐵𝑙𝑎𝑐𝑘𝑇𝑖𝑙𝑒/(2*𝑇𝑖𝑙𝑒𝑊𝑖𝑑𝑡ℎ))\n",
    "NumberofTiles= 1+2*Numberofwhiteblacktilepairs\n",
    "Lengthofusedtiles=NumberofTiles*TileWidth\n",
    "TotalGap=TotalWidth-Lengthofusedtiles\n",
    "GapAtEachTitles=TotalGap/2\n",
    "Numberofblacktiles=Numberofwhiteblacktilepairs + 1\n",
    "Numberofwhitetiles= Numberofwhiteblacktilepairs\n",
    "print(NumberofTiles)\n",
    "print(GapAtEachTitles)\n",
    "print(Numberofblacktiles)\n",
    "print(Numberofwhitetiles)\n",
    "\n"
   ]
  },
  {
   "cell_type": "markdown",
   "metadata": {},
   "source": [
    "**Sample Run When:**<br>\n",
    "\n",
    "TotalWidth = 45<br>\n",
    "TileWidth = 5<br>\n",
    "**Output** <br/>\n",
    "Number of tiles pairs = 4<br/>\n",
    "Number of tiles = 9<br/>\n",
    "Gap on two sides = 0.0<br/>\n",
    "Number of Black Tiles 5<br/>\n",
    "Number of White Tiles 4<br/>"
   ]
  },
  {
   "cell_type": "code",
   "execution_count": 9,
   "metadata": {},
   "outputs": [
    {
     "name": "stdout",
     "output_type": "stream",
     "text": [
      "4\n",
      "9\n",
      "0.0\n",
      "5\n",
      "4\n"
     ]
    }
   ],
   "source": [
    "#Write your code Here\n",
    "TotalWidth = 45\n",
    "TileWidth = 5\n",
    "widthWithoutBlackTile=TotalWidth-TileWidth\n",
    "Numberofwhiteblacktilepairs=int(𝑤𝑖𝑑𝑡ℎ𝑊𝑖𝑡ℎ𝑜𝑢𝑡𝐵𝑙𝑎𝑐𝑘𝑇𝑖𝑙𝑒/(2*𝑇𝑖𝑙𝑒𝑊𝑖𝑑𝑡ℎ))\n",
    "NumberofTiles= 1+2*Numberofwhiteblacktilepairs\n",
    "Lengthofusedtiles=NumberofTiles*TileWidth\n",
    "TotalGap=TotalWidth-Lengthofusedtiles\n",
    "GapAtEachTitles=TotalGap/2\n",
    "Numberofblacktiles=Numberofwhiteblacktilepairs + 1\n",
    "Numberofwhitetiles= Numberofwhiteblacktilepairs\n",
    "print(Numberofwhiteblacktilepairs)\n",
    "print(NumberofTiles)\n",
    "print(GapAtEachTitles)\n",
    "print(Numberofblacktiles)\n",
    "print(Numberofwhitetiles)"
   ]
  },
  {
   "cell_type": "markdown",
   "metadata": {},
   "source": [
    "## Exercise 02:"
   ]
  },
  {
   "cell_type": "markdown",
   "metadata": {},
   "source": [
    "**Sample run when:** <br />\n",
    "TotalWidth = 45<br />\n",
    "TileWidth = 2<br />\n",
    "**Program Output:**<br/>\n",
    "Number of tiles = 21<br />\n",
    "Gap on two sides = 1.5<br />\n",
    "Number of Black Tiles 6<br />\n",
    "Number of White Tiles 5<br />\n",
    "Number of Gray Tiles 10"
   ]
  },
  {
   "cell_type": "code",
   "execution_count": 7,
   "metadata": {},
   "outputs": [
    {
     "name": "stdout",
     "output_type": "stream",
     "text": [
      "21\n",
      "1.5\n",
      "6\n",
      "5\n",
      "10\n"
     ]
    }
   ],
   "source": [
    "#Write your code Here\n",
    "TotalWidth = 45\n",
    "TileWidth = 2\n",
    "WidthWithoutBlackTile=TotalWidth - TileWidth\n",
    "NumberOfWhiteBlackTilePairs =int(WidthWithoutBlackTile/(4*TileWidth))\n",
    "NumberOfTiles = 1 + 4 * NumberOfWhiteBlackTilePairs\n",
    "LengthOfUsedTiles = NumberOfTiles * TileWidth\n",
    "TotalGap = TotalWidth - LengthOfUsedTiles\n",
    "GapAtEachEnd = TotalGap / 2\n",
    "NumberOfBlackTiles = NumberOfWhiteBlackTilePairs + 1\n",
    "NumberOfWhiteTiles = NumberOfWhiteBlackTilePairs\n",
    "NumberOfGrayTitles = NumberOfWhiteBlackTilePairs*2\n",
    "print(NumberOfTiles)\n",
    "print(GapAtEachEnd)\n",
    "print(NumberOfBlackTiles)\n",
    "print(NumberOfWhiteTiles)\n",
    "print(NumberOfGrayTitles)\n",
    "\n"
   ]
  },
  {
   "cell_type": "markdown",
   "metadata": {},
   "source": [
    "**Sample run when:** <br />\n",
    "TotalWidth = 62<br />\n",
    "TileWidth = 3<br />\n",
    "**Program Output:**<br/>\n",
    "Number of tilesGroups = 4 <br/>\n",
    "Number of tiles = 17<br/>\n",
    "Gap on two sides = 0.5<br/>\n",
    "Nuber of Black Tiles 5<br/>\n",
    "Nuber of White Tiles 4<br/>\n",
    "Nuber of Gray Tiles 8<br/>"
   ]
  },
  {
   "cell_type": "code",
   "execution_count": 11,
   "metadata": {},
   "outputs": [
    {
     "name": "stdout",
     "output_type": "stream",
     "text": [
      "4\n",
      "17\n",
      "5.5\n",
      "5\n",
      "4\n",
      "8\n"
     ]
    }
   ],
   "source": [
    "#Write your code Here\n",
    "TotalWidth = 62\n",
    "TileWidth = 3\n",
    "WidthWithoutBlackTile=TotalWidth - TileWidth\n",
    "NumberOfWhiteBlackTileGroups =int(WidthWithoutBlackTile/(4*TileWidth))\n",
    "NumberOfTiles = 1 + 4 * NumberOfWhiteBlackTileGroups\n",
    "LengthOfUsedTiles = NumberOfTiles * TileWidth\n",
    "TotalGap = TotalWidth - LengthOfUsedTiles\n",
    "GapAtEachEnd = TotalGap / 2\n",
    "NumberOfBlackTiles = NumberOfWhiteBlackTilePairs + 1\n",
    "NumberOfWhiteTiles = NumberOfWhiteBlackTilePairs\n",
    "NumberOfGrayTitles = NumberOfWhiteBlackTilePairs*2\n",
    "print(NumberOfWhiteBlackTileGroups)\n",
    "print(NumberOfTiles)\n",
    "print(GapAtEachEnd)\n",
    "print(NumberOfBlackTiles)\n",
    "print(NumberOfWhiteTiles)\n",
    "print(NumberOfGrayTitles)\n",
    "\n"
   ]
  },
  {
   "cell_type": "markdown",
   "metadata": {},
   "source": [
    "# Lab Practice"
   ]
  },
  {
   "cell_type": "code",
   "execution_count": null,
   "metadata": {},
   "outputs": [],
   "source": []
  },
  {
   "cell_type": "code",
   "execution_count": null,
   "metadata": {},
   "outputs": [],
   "source": []
  }
 ],
 "metadata": {
  "kernelspec": {
   "display_name": "Python 3",
   "language": "python",
   "name": "python3"
  },
  "language_info": {
   "codemirror_mode": {
    "name": "ipython",
    "version": 3
   },
   "file_extension": ".py",
   "mimetype": "text/x-python",
   "name": "python",
   "nbconvert_exporter": "python",
   "pygments_lexer": "ipython3",
   "version": "3.8.3"
  },
  "toc": {
   "base_numbering": 1,
   "nav_menu": {},
   "number_sections": true,
   "sideBar": true,
   "skip_h1_title": false,
   "title_cell": "Table of Contents",
   "title_sidebar": "Contents",
   "toc_cell": false,
   "toc_position": {},
   "toc_section_display": true,
   "toc_window_display": false
  }
 },
 "nbformat": 4,
 "nbformat_minor": 2
}
