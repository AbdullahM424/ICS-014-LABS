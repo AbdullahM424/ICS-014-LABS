{
 "cells": [
  {
   "cell_type": "markdown",
   "metadata": {
    "slideshow": {
     "slide_type": "slide"
    }
   },
   "source": [
    "# ICS 104 - Introduction to Programming in Python and C\n",
    "## Objects and Classes - Lab"
   ]
  },
  {
   "cell_type": "markdown",
   "metadata": {
    "slideshow": {
     "slide_type": "slide"
    }
   },
   "source": [
    "# Name:   Abdullah Almeshhen\n",
    "# Student ID: 202162450\n",
    "# Section: 60"
   ]
  },
  {
   "cell_type": "markdown",
   "metadata": {
    "slideshow": {
     "slide_type": "slide"
    }
   },
   "source": [
    "# Exercises "
   ]
  },
  {
   "cell_type": "markdown",
   "metadata": {
    "slideshow": {
     "slide_type": "slide"
    }
   },
   "source": [
    "## Exercise # 1\n",
    "Define a class `Point` that represents a point in $2-D$ plane.  The point has $x$ and $y$ coordinates. Define the following:\n",
    "-\tA constructor to initialize the $x$, $y$ coordinates.\n",
    "-\tA method `translate(self, dx,dy)` to translate the point object `dx`, and `dy` units in $x$ and $y$ directions, respectively.\n",
    "-\tA method `distanceTo (self, point2)`  to return the distance between the point referenced by `self` and `point2`.\n",
    "-\t`getX(self)` to return the value of $x$ coordinate.\n",
    "-\t`getY(self)` to return the value of $y$ coordinate<br>.  \n",
    "\n",
    "Test the above class by:\n",
    "- Creating 2 point objects; one with (3,5) as x,y coordinates; the second with (-10,30) as x,y coordinates.\n",
    "- Move the first point 5.5 units in x direction and -12.5 units in y direction using translate method<br>\n",
    "- Find the distance between the 2 points in their current location using distanceTo method\n",
    "\n",
    "A Sample output resulting from running the above test class is shown below\n",
    "```  \n",
    "new coordinates of point1= (8.5 , -7.5)  \n",
    "\n",
    "Coordinates of point 2 = (-10.0 , 30.0)  \n",
    "\n",
    "Distance between the 2 points = 41.82  \n",
    "```\n"
   ]
  },
  {
   "cell_type": "code",
   "execution_count": 10,
   "metadata": {
    "slideshow": {
     "slide_type": "notes"
    }
   },
   "outputs": [
    {
     "name": "stdout",
     "output_type": "stream",
     "text": [
      "\n",
      "new Coordinates of Point1: ( 8.5 , -7.5 )\n",
      "\n",
      "Coordinates of Point 2: ( -10 , 30 )\n",
      "\n",
      "Distance Between the 2 Points =  41.82\n"
     ]
    }
   ],
   "source": [
    "# Exercise #1 - Sample Solution\n",
    "import math\n",
    "\n",
    "class Point :\n",
    "## Constructor To Initialise xLocation and yLocation coordinates\n",
    "# @param xLocation and yLocation is the initial location\n",
    "    def __init__(self, xLocation, yLocation) :\n",
    "        self.xLocation = xLocation\n",
    "        self.yLocation = yLocation\n",
    "## Adds xLocation to the dx and yLocation to thr dy\n",
    "#@param dx and dy is the deribtive\n",
    "# translate() to move x, y coordinates  \n",
    "    def translate(self, dx,dy) :\n",
    "        self.xLocation += dx\n",
    "        self.yLocation += dy\n",
    "## distanceTo() to calculate distance Between 2 Points  \n",
    "#@param point is the point of xLocation and yLocation\n",
    "# @return the math sqrt\n",
    "    def distanceTo(self, point) :\n",
    "        return math.sqrt((self.xLocation-point.xLocation)**2 + (self.yLocation-point.yLocation)**2)\n",
    "## Gets the current xLocation\n",
    "# @return the xLocation\n",
    "    def getX(self) :\n",
    "        return self.xLocation\n",
    "## Gets the current yLocation\n",
    "# @return the yLocation\n",
    "    def getY(self) :\n",
    "        return self.yLocation\n",
    "\n",
    "\n",
    "# Testing the Portfolio class \n",
    "# Create Point 1\n",
    "p1 = Point(3, 5)\n",
    "\n",
    "# Create Point 2\n",
    "p2 = Point(-10, 30)\n",
    "\n",
    "# Move the Point 1\n",
    "p1.translate(5.5, -12.5)\n",
    "\n",
    "print(\"\\nnew Coordinates of Point1: (\",p1.getX(),\",\",p1.getY(),\")\")\n",
    "\n",
    "print(\"\\nCoordinates of Point 2: (\",p2.getX(),\",\",p2.getY(),\")\")\n",
    "\n",
    "\n",
    "# Find the Distance Between p1 and p2\n",
    "print(\"\\nDistance Between the 2 Points = \",round(p2.distanceTo(p1),2))"
   ]
  },
  {
   "cell_type": "markdown",
   "metadata": {
    "slideshow": {
     "slide_type": "slide"
    }
   },
   "source": [
    "## Exercise # 2\n",
    "Implement a `class` Car with the following properties. A car has a certain fuel efficiency (measured in km/liter) \n",
    "and a certain amount of fuel in the tank.\n",
    "The efficiency is specified in the constructor, and the initial default fuel volume is 0. \n",
    "Supply a method `drive` that simulates driving the car for a certain distance, reducing the fuel in the tank, \n",
    "a method `getFuel` to return the amount of fuel in the tank, \n",
    "and a method `addFuel` to fill the tank with an amount. A method `getFuelEfficiency` to return the current fuel efficiency.  ANother method `setFuelEfficiency` to assign a new value to fuel efficiency. \n",
    "\n",
    "Sample usage:\n",
    "```\n",
    "- create a Car object with fuel efficiency of 10 km/liter \n",
    "  and fuel volume of 20 liters \n",
    "- Display available fuel and fuel efficiency\n",
    "- Try to drive 500 kms  (it should not drive and display a messge)\n",
    "- Add 30 liters of fuel\n",
    "- Change fuel efficiency to 20 kms/liter\n",
    "- drive 300 kms\n",
    "- display the remaining fuel\n",
    "```"
   ]
  },
  {
   "cell_type": "code",
   "execution_count": 13,
   "metadata": {
    "slideshow": {
     "slide_type": "notes"
    }
   },
   "outputs": [
    {
     "name": "stdout",
     "output_type": "stream",
     "text": [
      "\n",
      "Available Fuel: 20 liters\n",
      "Fuel Efficiency: 10 km/liter\n",
      "The available fuel can drive maximum of 200 km \n",
      "remaining Fuel: 35.0 liters\n"
     ]
    }
   ],
   "source": [
    "# Exercise # 2 - Sample Solution\n",
    "class Car :\n",
    "## Constructor To Initialise Fuel Efficiency and fuelVolume\n",
    "# @param fuelEfficiency is the fuelEfficiency\n",
    "# @param fuelVolume is the fuelVolume and equal to zero\n",
    "\n",
    "    def __init__(self, fuelEfficiency , fuelVolume = 0) :\n",
    "        self.fuelEfficiency=fuelEfficiency\n",
    "        self.fuelVolume = fuelVolume\n",
    "## addFuel() to add the Fuel\n",
    "# @param fuelVolume add to fuelVolume\n",
    "    def addFuel (self, fuelVolume) :\n",
    "        self.fuelVolume += fuelVolume\n",
    "## Makes drive from this car if less than or equal to fuelVolume\n",
    "   #  distance/fuelEfficiency\n",
    "#  @param distance is  the fuelVolume equal to distance divide by fuelEfficiency\n",
    "# substract from the fuelVolume\n",
    "    def drive(self, distance) :\n",
    "        if distance/self.fuelEfficiency <= self.fuelVolume:\n",
    "            self.fuelVolume -= (distance/self.fuelEfficiency)\n",
    "        \n",
    "## getFuel() to return the Fuel Volume\n",
    "# @param return is the fuelVolume\n",
    "\n",
    "    def getFuel (self ) :\n",
    "         return self.fuelVolume\n",
    "## getFuelEfficiency() to return the Fuel Efficiency\n",
    "# @param return is the fuelEfficiency\n",
    "    def getFuelEfficiency (self ) :\n",
    "        return self.fuelEfficiency\n",
    "## setFuelEfficiency() to set the Fuel Efficiency\n",
    "# @param newEfficiency is fuelEfficiency\n",
    "    def setFuelEfficiency(self,newEfficiency) :\n",
    "        self.fuelEfficiency = newEfficiency\n",
    "\n",
    "# Testing the Portfolio class\n",
    "# Create a Car with Efficiency = 10 and Volume = 20 \n",
    "car1 = Car(10, 20)\n",
    "\n",
    "print(\"\\nAvailable Fuel:\", car1.getFuel(),\"liters\")\n",
    "print(\"Fuel Efficiency:\", car1.getFuelEfficiency(),\"km/liter\")\n",
    "\n",
    "       # Try to Drive 300 Kms\n",
    "car1.drive(300)\n",
    "\n",
    "    # Add 30 litres of Fuel\n",
    "car1.addFuel(30)\n",
    "\n",
    "    # Change the Efficiency\n",
    "car1.setFuelEfficiency(20)\n",
    "\n",
    "          # Again Try To Drive 300 Kms\n",
    "car1.drive(300)\n",
    "\n",
    "# Display Remaining Fuel\n",
    "print(\"The available fuel can drive maximum of 200 km \\nremaining Fuel:\", car1.getFuel(),\"liters\")"
   ]
  },
  {
   "cell_type": "raw",
   "metadata": {},
   "source": [
    "Sample run due to sample usage shown above:\n",
    "Fuel Available= 20 liters\n",
    "Fuel efficiency = 10 km/liter\n",
    "The available fuel can drive maximum of 200 km\n",
    "remaining Fuel= 35.0 liters"
   ]
  }
 ],
 "metadata": {
  "celltoolbar": "Slideshow",
  "kernelspec": {
   "display_name": "Python 3 (ipykernel)",
   "language": "python",
   "name": "python3"
  },
  "language_info": {
   "codemirror_mode": {
    "name": "ipython",
    "version": 3
   },
   "file_extension": ".py",
   "mimetype": "text/x-python",
   "name": "python",
   "nbconvert_exporter": "python",
   "pygments_lexer": "ipython3",
   "version": "3.9.12"
  },
  "rise": {
   "theme": "yellow"
  },
  "toc": {
   "base_numbering": 1,
   "nav_menu": {},
   "number_sections": true,
   "sideBar": false,
   "skip_h1_title": false,
   "title_cell": "Table of Contents",
   "title_sidebar": "Contents",
   "toc_cell": false,
   "toc_position": {
    "height": "789px",
    "left": "450px",
    "top": "145px",
    "width": "384px"
   },
   "toc_section_display": false,
   "toc_window_display": false
  },
  "varInspector": {
   "cols": {
    "lenName": 16,
    "lenType": 16,
    "lenVar": 40
   },
   "kernels_config": {
    "python": {
     "delete_cmd_postfix": "",
     "delete_cmd_prefix": "del ",
     "library": "var_list.py",
     "varRefreshCmd": "print(var_dic_list())"
    },
    "r": {
     "delete_cmd_postfix": ") ",
     "delete_cmd_prefix": "rm(",
     "library": "var_list.r",
     "varRefreshCmd": "cat(var_dic_list()) "
    }
   },
   "types_to_exclude": [
    "module",
    "function",
    "builtin_function_or_method",
    "instance",
    "_Feature"
   ],
   "window_display": false
  }
 },
 "nbformat": 4,
 "nbformat_minor": 4
}
