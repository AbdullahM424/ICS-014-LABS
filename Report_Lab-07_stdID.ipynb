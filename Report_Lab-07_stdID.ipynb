{
 "cells": [
  {
   "cell_type": "markdown",
   "metadata": {
    "slideshow": {
     "slide_type": "slide"
    }
   },
   "source": [
    "# ICS 104 - Introduction to Programming in Python and C\n",
    "## Loops - Lab 2  \n",
    "- **SOLUTIONS**"
   ]
  },
  {
   "cell_type": "markdown",
   "metadata": {
    "slideshow": {
     "slide_type": "slide"
    }
   },
   "source": [
    "# Lab Objectives\n",
    "- To understand nested loops\n",
    "- To process strings"
   ]
  },
  {
   "cell_type": "markdown",
   "metadata": {
    "slideshow": {
     "slide_type": "slide"
    }
   },
   "source": [
    "# Exercises"
   ]
  },
  {
   "cell_type": "markdown",
   "metadata": {
    "slideshow": {
     "slide_type": "-"
    }
   },
   "source": [
    "## Exercise # 1:\n",
    "Write a phython program that, using the alphabet string and nested loops, will generate the patterns shown below in the sample runs. \n",
    "Your program will prompt the user for the number of lines (must be from 1 to 26). You need to validate the input as shown below in sample run 1 and 2."
   ]
  },
  {
   "cell_type": "raw",
   "metadata": {},
   "source": [
    "Sample run 1\n",
    "Enter number of lines to generate: -1\n",
    "wrong input: lines must be between 1 and 26\n",
    "\n",
    "Sample run 2\n",
    "Enter number of lines to generate: 27\n",
    "wrong input: lines must be between 1 and 26\n",
    "\n",
    "Sample run 3\n",
    "Enter number of lines to generate: 5\n",
    "a,b,c,d,e,\n",
    "a,b,c,d,e,\n",
    "a,b,c,d,e,\n",
    "a,b,c,d,e,\n",
    "a,b,c,d,e,\n",
    "----------\n",
    "a,\n",
    "a,b,\n",
    "a,b,c,\n",
    "a,b,c,d,\n",
    "a,b,c,d,e,\n",
    "----------\n",
    "e,d,c,b,a,\n",
    "d,c,b,a,\n",
    "c,b,a,\n",
    "b,a,\n",
    "a,"
   ]
  },
  {
   "cell_type": "code",
   "execution_count": 14,
   "metadata": {},
   "outputs": [
    {
     "name": "stdout",
     "output_type": "stream",
     "text": [
      "Enter number of lines to generate: 5\n",
      "a,b,c,d,e,\n",
      "a,b,c,d,e,\n",
      "a,b,c,d,e,\n",
      "a,b,c,d,e,\n",
      "a,b,c,d,e,\n",
      "----------\n",
      "a,\n",
      "a,b,\n",
      "a,b,c,\n",
      "a,b,c,d,\n",
      "a,b,c,d,e,\n",
      "----------\n",
      "e,d,c,b,a,\n",
      "d,c,b,a,\n",
      "c,b,a,\n",
      "b,a,\n",
      "a,\n"
     ]
    }
   ],
   "source": [
    "# YOUR CODE HERE\n",
    "alphabet='abcdefghijklmnopqrstuvwxyz'\n",
    "num = int(input(\"Enter number of lines to generate: \")) # Asking the user to enter the number of lines\n",
    "if num>=1 and num<=26:      #The input must be in range [1,26]\n",
    "    for _ in range(num):          # Here we use the for loop, and I'm using a dummy variable _ to loop through row number of times.\n",
    "\n",
    "        for i in range(97,97+num):    #variable i to print it's ascii value from 97(representing a) to 97+num  \n",
    "            print(chr(i),end=',')    #We convert number into character using chr function\n",
    "        print()\n",
    "    print('-'*(num*2))        #On observation we can see that line 1 contains only a, line 2 contains a, b, similarly line 5 contains a,b,c,d,e. \n",
    "    for i in range(num):     \n",
    "        for j in range(97,97+i+1): \n",
    "            print(chr(j),end=',')     #We convert number into character using chr function\n",
    "        print()     #We use print() to print empty line\n",
    "    print('-'*(num*2))     #Here we will do the same thing but in the oppsite way that means we want to decrease the number of alphabet\n",
    "    for i in range(num):\n",
    "        for j in range(97+num-i-1,97-1,-1):  #we have the condition to loop from 97+num-i-1 to 97-1 in reverse order.\n",
    "            print(chr(j),end=',')    #We convert number into character using chr function\n",
    "        print()\n",
    "else:\n",
    "    print('wrong input: lines must be between 1 and 26')  #Here in this condition if the input not in the range between [1,26]\n",
    "    \n"
   ]
  },
  {
   "cell_type": "code",
   "execution_count": null,
   "metadata": {},
   "outputs": [],
   "source": [
    "# YOUR CODE HERE"
   ]
  },
  {
   "cell_type": "markdown",
   "metadata": {
    "slideshow": {
     "slide_type": "-"
    }
   },
   "source": [
    "## Exercise # 2:\n",
    "Write a python program that extracts a substring from the alphabet string based on the starting letter and the step.\n",
    "The step cannot be zero. The starting letter can be entered as lowercase or upper case.\n",
    "You need to validate the input as shown in the sample runs.<br>\n",
    "Hint:use find method to get the index of the entered letter. "
   ]
  },
  {
   "cell_type": "raw",
   "metadata": {},
   "source": [
    "Sample run 1:\n",
    "Enter starting letter: th\n",
    "You must enter one letter\n",
    "\n",
    "Sample run 2:\n",
    "Enter starting letter: $\n",
    "You must enter one letter\n",
    "\n",
    "Sample run 3:\n",
    "Enter starting letter: T\n",
    "Enter step: 0\n",
    "Step cannot be 0\n",
    "\n",
    "Sample run 4:\n",
    "Enter starting letter: M\n",
    "Enter step: 3\n",
    "Resulting substring is: mpsvy\n",
    "\n",
    "Sanmple run 5:\n",
    "Enter starting letter: t\n",
    "Enter step: -3\n",
    "Resulting substring is: tqnkheb"
   ]
  },
  {
   "cell_type": "code",
   "execution_count": 18,
   "metadata": {
    "slideshow": {
     "slide_type": "-"
    }
   },
   "outputs": [
    {
     "name": "stdout",
     "output_type": "stream",
     "text": [
      "Enter starting letter: l\n",
      "Enter step: 0\n",
      "Step cannot be 0\n"
     ]
    }
   ],
   "source": [
    "# YOUR CODE HERE\n",
    "s = input('Enter starting letter: ')     # Asking the user to enter starting letter\n",
    "s = s.lower()    # Converting to lower case\n",
    "if len(s) > 1 or (s < 'a' or s > 'z'):          # We check if it is a valid letter or not\n",
    "    print('You must enter one letter')\n",
    "else:\n",
    "    step = int(input('Enter step: '))\n",
    "    res = \"\"\n",
    "    if step != 0:\n",
    "                  # Checking if the step is above 0\n",
    "        if step > 0:\n",
    "                   # Using loop to print resultant output\n",
    "            for i in range(ord(s),ord('z'),step):\n",
    "                res += chr(i)\n",
    "                  # If the number is negative\n",
    "        elif step < 0:\n",
    "            for i in range(ord(s),ord('a'),step):\n",
    "                res += chr(i)\n",
    "                       # print the result\n",
    "        print('Resulting substring is:',res)\n",
    "                  # Otherwise step can not be 0\n",
    "    else:\n",
    "        print('Step cannot be 0')"
   ]
  },
  {
   "cell_type": "markdown",
   "metadata": {
    "slideshow": {
     "slide_type": "slide"
    }
   },
   "source": [
    "Exercise # 3:\n",
    "Write a program that generates a random word made of 4 consonants and 4 vowels. Each randomly selected consonant is followed by a randomly selected vowel.\n",
    "Use the alphabet string given in Exercise 1 to create one string containing consonants and another one containing vowels. Use them for selecting the consonants and vowels.\n",
    "Hint: use randint function to generate a random index to be used to randomly select the consonant and vowel."
   ]
  },
  {
   "cell_type": "raw",
   "metadata": {},
   "source": [
    "Sample run 1\n",
    "Cosntructed word is: wufixatu\n",
    "\n",
    "Sample run 2\n",
    "Cosntructed word is: yosigugi"
   ]
  },
  {
   "cell_type": "code",
   "execution_count": 11,
   "metadata": {
    "slideshow": {
     "slide_type": "-"
    }
   },
   "outputs": [
    {
     "name": "stdout",
     "output_type": "stream",
     "text": [
      "Cosntructed word is: nawacelu\n"
     ]
    }
   ],
   "source": [
    "# YOUR CODE HERE\n",
    "import random\n",
    "\n",
    "vowels = \"aeiou\"\n",
    "consonants = \"bcdfghjklmnpqrstvwxyz\"\n",
    "# Declare an empty string\n",
    "str=\"\"\n",
    "                   # Repeat the loop 8 times because we want tocreate a string of 8 length which includes 4 vowels and 4 consonants\n",
    "for i in range(8):\n",
    "    # Place consonants at even indexs\n",
    "    if i%2==0:\n",
    "        # Generate a random index from 0 to 20\n",
    "        randomindex = random.randint(0,20)\n",
    "        # Pick the randomindex th letter from the consonants\n",
    "        letter = consonants[randomindex]\n",
    "        # Added that letter in the string\n",
    "        str += letter\n",
    "    # Place vowels at odd indexs\n",
    "    else:\n",
    "        # Generate a random index from 0 to 4\n",
    "        randomindex = random.randint(0,4)\n",
    "        # Pick the randomindex th letter from the vowels\n",
    "        letter = vowels[randomindex]\n",
    "        # Added that letter in the string\n",
    "        str += letter\n",
    "        \n",
    "print(\"Cosntructed word is:\",str)\n"
   ]
  },
  {
   "cell_type": "markdown",
   "metadata": {},
   "source": [
    "# End of the  Loops - Lab 2\n",
    "Good luck..."
   ]
  }
 ],
 "metadata": {
  "celltoolbar": "Slideshow",
  "kernelspec": {
   "display_name": "Python 3 (ipykernel)",
   "language": "python",
   "name": "python3"
  },
  "language_info": {
   "codemirror_mode": {
    "name": "ipython",
    "version": 3
   },
   "file_extension": ".py",
   "mimetype": "text/x-python",
   "name": "python",
   "nbconvert_exporter": "python",
   "pygments_lexer": "ipython3",
   "version": "3.9.12"
  },
  "rise": {
   "theme": "yellow"
  },
  "toc": {
   "base_numbering": 1,
   "nav_menu": {},
   "number_sections": true,
   "sideBar": false,
   "skip_h1_title": false,
   "title_cell": "Table of Contents",
   "title_sidebar": "Contents",
   "toc_cell": false,
   "toc_position": {
    "height": "789px",
    "left": "450px",
    "top": "145px",
    "width": "384px"
   },
   "toc_section_display": false,
   "toc_window_display": false
  },
  "varInspector": {
   "cols": {
    "lenName": 16,
    "lenType": 16,
    "lenVar": 40
   },
   "kernels_config": {
    "python": {
     "delete_cmd_postfix": "",
     "delete_cmd_prefix": "del ",
     "library": "var_list.py",
     "varRefreshCmd": "print(var_dic_list())"
    },
    "r": {
     "delete_cmd_postfix": ") ",
     "delete_cmd_prefix": "rm(",
     "library": "var_list.r",
     "varRefreshCmd": "cat(var_dic_list()) "
    }
   },
   "types_to_exclude": [
    "module",
    "function",
    "builtin_function_or_method",
    "instance",
    "_Feature"
   ],
   "window_display": false
  }
 },
 "nbformat": 4,
 "nbformat_minor": 4
}
